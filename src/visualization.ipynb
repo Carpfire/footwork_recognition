{
 "cells": [
  {
   "cell_type": "code",
   "execution_count": 2,
   "metadata": {},
   "outputs": [
    {
     "name": "stderr",
     "output_type": "stream",
     "text": [
      "c:\\Users\\liamc\\anaconda3\\envs\\fencing_v3\\lib\\site-packages\\tqdm\\auto.py:22: TqdmWarning: IProgress not found. Please update jupyter and ipywidgets. See https://ipywidgets.readthedocs.io/en/stable/user_install.html\n",
      "  from .autonotebook import tqdm as notebook_tqdm\n"
     ]
    }
   ],
   "source": [
    "from proj.models import GRUNet\n",
    "from proj.dataloaders import PoseDataset, collate_fn\n",
    "from proj.experiment import Experiment\n",
    "import wandb\n",
    "import torch.nn as nn\n",
    "from torch.utils.data import DataLoader\n",
    "import torch\n",
    "import pickle as pkl\n",
    "import os "
   ]
  },
  {
   "cell_type": "code",
   "execution_count": 10,
   "metadata": {},
   "outputs": [
    {
     "name": "stdout",
     "output_type": "stream",
     "text": [
      "Action Item Counts: {'advancing': 16, 'retreating': 16, 'fleche': 16, 'lunge': 16}\n"
     ]
    }
   ],
   "source": [
    "device='cuda:0'\n",
    "ann_file = 'C:\\\\Users\\\\liamc\\\\Desktop\\\\fencing_vision\\\\src\\\\vpd_fencing\\\\action_dataset\\\\fencing\\\\all.txt'\n",
    "pose_path = 'C:\\\\Users\\\\liamc\\\\Desktop\\\\fencing_vision\\\\data\\\\embeddings\\\\vipe_embs\\\\'\n",
    "val_ids = 'C:\\\\Users\\\\liamc\\\\Desktop\\\\fencing_vision\\\\src\\\\vpd_fencing\\\\action_dataset\\\\fencing\\\\val.ids.txt'\n",
    "n_shot_file = 'C:\\\\Users\\\\liamc\\\\Desktop\\\\fencing_vision\\\\src\\\\vpd_fencing\\\\action_dataset\\\\fencing\\\\train_16_0.ids.txt'\n",
    "bs = 8\n",
    "train_dataloader = DataLoader(PoseDataset(ann_file, pose_path, n_shot_file, subset = ['advancing', 'retreating', 'fleche', 'lunge']),\n",
    " collate_fn=collate_fn, batch_size=bs)"
   ]
  },
  {
   "cell_type": "code",
   "execution_count": 29,
   "metadata": {},
   "outputs": [],
   "source": [
    "pose_file = 'C:\\\\Users\\\\liamc\\\\Desktop\\\\fencing_vision\\\\data\\\\embeddings\\\\vpd_embs_7\\\\BARDENET_FRA_vs_CANNONE_FRA__1__left.emb.pkl'\n",
    "with open(pose_file, 'rb') as f:\n",
    "    data = pkl.load(f)\n",
    "f.close()\n"
   ]
  },
  {
   "cell_type": "code",
   "execution_count": 30,
   "metadata": {},
   "outputs": [],
   "source": [
    "import matplotlib.pyplot as plt\n",
    "data_point = data[0][1]"
   ]
  },
  {
   "cell_type": "code",
   "execution_count": 38,
   "metadata": {},
   "outputs": [],
   "source": [
    "# plt.ion()\n",
    "# for d in data:\n",
    "#     plt.scatter(d[1][0, 0:26:2], d[1][0,1:26:2])\n",
    "#     plt.show()\n",
    "#     plt.clf()"
   ]
  },
  {
   "cell_type": "code",
   "execution_count": 5,
   "metadata": {},
   "outputs": [],
   "source": [
    "from vpd_fencing.models.module import FCNet"
   ]
  },
  {
   "cell_type": "code",
   "execution_count": 7,
   "metadata": {},
   "outputs": [],
   "source": [
    "import torch \n",
    "from vpd_fencing.models.module import FCResNetPoseDecoder"
   ]
  },
  {
   "cell_type": "code",
   "execution_count": 12,
   "metadata": {},
   "outputs": [
    {
     "data": {
      "text/plain": [
       "FCNet(\n",
       "  (layers): Sequential(\n",
       "    (0): Linear(in_features=26, out_features=128, bias=True)\n",
       "    (1): ReLU(inplace=True)\n",
       "    (2): Linear(in_features=128, out_features=128, bias=True)\n",
       "    (3): Dropout(p=0, inplace=True)\n",
       "    (4): ReLU(inplace=True)\n",
       "    (5): Linear(in_features=128, out_features=52, bias=True)\n",
       "  )\n",
       ")"
      ]
     },
     "execution_count": 12,
     "metadata": {},
     "output_type": "execute_result"
    }
   ],
   "source": [
    "device = \"cuda\"\n",
    "path = \"C:\\\\Users\\\\liamc\\\\Desktop\\\\fencing_vision\\\\models\\\\vpd_model7\\\\best_epoch.decoder.pt\"\n",
    "model = FCNet(26, [128, 128], 2*26, dropout = 0)\n",
    "model.load_state_dict(torch.load(path))\n",
    "model.to(device)"
   ]
  },
  {
   "cell_type": "code",
   "execution_count": 16,
   "metadata": {},
   "outputs": [],
   "source": [
    "model.eval()\n",
    "out = model(torch.Tensor(data[0][1]).to(device))"
   ]
  },
  {
   "cell_type": "markdown",
   "metadata": {},
   "source": []
  },
  {
   "cell_type": "code",
   "execution_count": 48,
   "metadata": {},
   "outputs": [],
   "source": [
    "out_pose = out[0, :26].detach().cpu().numpy()"
   ]
  },
  {
   "cell_type": "code",
   "execution_count": 55,
   "metadata": {},
   "outputs": [
    {
     "data": {
      "image/png": "[encoded data removed]",
      "text/plain": [
       "<Figure size 432x288 with 1 Axes>"
      ]
     },
     "metadata": {
      "needs_background": "light"
     },
     "output_type": "display_data"
    },
    {
     "data": {
      "image/png": "[encoded data removed]",
      "text/plain": [
       "<Figure size 432x288 with 1 Axes>"
      ]
     },
     "metadata": {
      "needs_background": "light"
     },
     "output_type": "display_data"
    }
   ],
   "source": [
    "plt.scatter(out_pose[:26:2], out_pose[1:26:2])\n",
    "plt.show()\n",
    "plt.scatter(data_point[:26:2], data_point[1:26:2])\n",
    "plt.show()"
   ]
  },
  {
   "cell_type": "code",
   "execution_count": null,
   "metadata": {},
   "outputs": [],
   "source": []
  }
 ],
 "metadata": {
  "interpreter": {
   "hash": "574a1d83014fadc38c94898260f1dd3233f9289543523cc04b243a10d598bc78"
  },
  "kernelspec": {
   "display_name": "Python 3.9.11 ('fencing_v3')",
   "language": "python",
   "name": "python3"
  },
  "language_info": {
   "codemirror_mode": {
    "name": "ipython",
    "version": 3
   },
   "file_extension": ".py",
   "mimetype": "text/x-python",
   "name": "python",
   "nbconvert_exporter": "python",
   "pygments_lexer": "ipython3",
   "version": "3.9.11"
  },
  "orig_nbformat": 4
 },
 "nbformat": 4,
 "nbformat_minor": 2
}
